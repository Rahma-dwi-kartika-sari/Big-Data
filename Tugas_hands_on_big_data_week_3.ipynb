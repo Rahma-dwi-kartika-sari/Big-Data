{
  "nbformat": 4,
  "nbformat_minor": 0,
  "metadata": {
    "colab": {
      "provenance": []
    },
    "kernelspec": {
      "name": "python3",
      "display_name": "Python 3"
    },
    "language_info": {
      "name": "python"
    }
  },
  "cells": [
    {
      "cell_type": "markdown",
      "source": [
        "Tugas 1"
      ],
      "metadata": {
        "id": "jXQVw3IF9lFi"
      }
    },
    {
      "cell_type": "code",
      "execution_count": 2,
      "metadata": {
        "colab": {
          "base_uri": "https://localhost:8080/"
        },
        "id": "MLqjVsentelj",
        "outputId": "cf9f5e8e-9c82-4f51-bed9-c1683a0acede"
      },
      "outputs": [
        {
          "output_type": "stream",
          "name": "stdout",
          "text": [
            "~~~ Data Awal ~~~\n",
            "+-------------+-----------------+------+\n",
            "|CharacterName| OccupationBefore|Salary|\n",
            "+-------------+-----------------+------+\n",
            "|    Kim Dokja|Karyawan Kantoran|  3500|\n",
            "| Han Sooyoung| Penulis Webnovel|  2800|\n",
            "|Yoo Joonghyuk|Gamer Profesional|  4000|\n",
            "| Lee Hyunsung|          Tentara|  3700|\n",
            "|  Jung Heewon|        Pengacara|  3900|\n",
            "|    Lee Jihye|          Pelajar|     0|\n",
            "| Shin Yoosung|          Pelajar|     0|\n",
            "+-------------+-----------------+------+\n",
            "\n",
            "~~~ Schema ~~~\n",
            "root\n",
            " |-- CharacterName: string (nullable = true)\n",
            " |-- OccupationBefore: string (nullable = true)\n",
            " |-- Salary: long (nullable = true)\n",
            "\n",
            "~~~ Nama dan Gaji ~~~\n",
            "+-------------+------+\n",
            "|CharacterName|Salary|\n",
            "+-------------+------+\n",
            "|    Kim Dokja|  3500|\n",
            "| Han Sooyoung|  2800|\n",
            "|Yoo Joonghyuk|  4000|\n",
            "| Lee Hyunsung|  3700|\n",
            "|  Jung Heewon|  3900|\n",
            "|    Lee Jihye|     0|\n",
            "| Shin Yoosung|     0|\n",
            "+-------------+------+\n",
            "\n",
            "~~~ Update Salary +500 ~~~\n",
            "+-------------+-----------------+------+-------------+\n",
            "|CharacterName| OccupationBefore|Salary|UpdatedSalary|\n",
            "+-------------+-----------------+------+-------------+\n",
            "|    Kim Dokja|Karyawan Kantoran|  3500|         4000|\n",
            "| Han Sooyoung| Penulis Webnovel|  2800|         3300|\n",
            "|Yoo Joonghyuk|Gamer Profesional|  4000|         4500|\n",
            "| Lee Hyunsung|          Tentara|  3700|         4200|\n",
            "|  Jung Heewon|        Pengacara|  3900|         4400|\n",
            "|    Lee Jihye|          Pelajar|     0|          500|\n",
            "| Shin Yoosung|          Pelajar|     0|          500|\n",
            "+-------------+-----------------+------+-------------+\n",
            "\n",
            "~~~ Karakter dengan gaji > 3000 ~~~\n",
            "+-------------+-----------------+------+\n",
            "|CharacterName| OccupationBefore|Salary|\n",
            "+-------------+-----------------+------+\n",
            "|    Kim Dokja|Karyawan Kantoran|  3500|\n",
            "|Yoo Joonghyuk|Gamer Profesional|  4000|\n",
            "| Lee Hyunsung|          Tentara|  3700|\n",
            "|  Jung Heewon|        Pengacara|  3900|\n",
            "+-------------+-----------------+------+\n",
            "\n",
            "~~~ Rata-rata gaji per pekerjaan ~~~\n",
            "+-----------------+-------------+\n",
            "| OccupationBefore|AverageSalary|\n",
            "+-----------------+-------------+\n",
            "|Gamer Profesional|       4000.0|\n",
            "|Karyawan Kantoran|       3500.0|\n",
            "| Penulis Webnovel|       2800.0|\n",
            "|          Tentara|       3700.0|\n",
            "|        Pengacara|       3900.0|\n",
            "|          Pelajar|          0.0|\n",
            "+-----------------+-------------+\n",
            "\n",
            "~~~ Gaji maksimum & minimum per pekerjaan ~~~\n",
            "+-----------------+---------+---------+\n",
            "| OccupationBefore|MaxSalary|MinSalary|\n",
            "+-----------------+---------+---------+\n",
            "|Gamer Profesional|     4000|     4000|\n",
            "|Karyawan Kantoran|     3500|     3500|\n",
            "| Penulis Webnovel|     2800|     2800|\n",
            "|          Tentara|     3700|     3700|\n",
            "|        Pengacara|     3900|     3900|\n",
            "|          Pelajar|        0|        0|\n",
            "+-----------------+---------+---------+\n",
            "\n"
          ]
        }
      ],
      "source": [
        "from pyspark.sql import SparkSession\n",
        "from pyspark.sql.functions import col, avg, max, min\n",
        "\n",
        "spark = SparkSession.builder.appName(\"HandsOnPertemuan3\").getOrCreate()\n",
        "\n",
        "data = [\n",
        "    ('Kim Dokja', 'Karyawan Kantoran', 3500),\n",
        "    ('Han Sooyoung', 'Penulis Webnovel', 2800),\n",
        "    ('Yoo Joonghyuk', 'Gamer Profesional', 4000),\n",
        "    ('Lee Hyunsung', 'Tentara', 3700),\n",
        "    ('Jung Heewon', 'Pengacara', 3900),\n",
        "    ('Lee Jihye', 'Pelajar', 0),\n",
        "    ('Shin Yoosung', 'Pelajar', 0)\n",
        "]\n",
        "columns = ['CharacterName', 'OccupationBefore', 'Salary']\n",
        "\n",
        "df = spark.createDataFrame(data, schema=columns)\n",
        "\n",
        "print(\"~~~ Data Awal ~~~\")\n",
        "df.show()\n",
        "\n",
        "print(\"~~~ Schema ~~~\")\n",
        "df.printSchema()\n",
        "\n",
        "print(\"~~~ Nama dan Gaji ~~~\")\n",
        "df.select(\"CharacterName\", \"Salary\").show()\n",
        "\n",
        "print(\"~~~ Update Salary +500 ~~~\")\n",
        "df.withColumn(\"UpdatedSalary\", col(\"Salary\") + 500).show()\n",
        "\n",
        "print(\"~~~ Karakter dengan gaji > 3000 ~~~\")\n",
        "df.filter(col(\"Salary\") > 3000).show()\n",
        "\n",
        "print(\"~~~ Rata-rata gaji per pekerjaan ~~~\")\n",
        "df.groupBy(\"OccupationBefore\").agg(avg(\"Salary\").alias(\"AverageSalary\")).show()\n",
        "\n",
        "print(\"~~~ Gaji maksimum & minimum per pekerjaan ~~~\")\n",
        "df.groupBy(\"OccupationBefore\").agg(\n",
        "    max(\"Salary\").alias(\"MaxSalary\"),\n",
        "    min(\"Salary\").alias(\"MinSalary\")\n",
        ").show()"
      ]
    },
    {
      "cell_type": "markdown",
      "source": [
        "Tugas 2"
      ],
      "metadata": {
        "id": "MTc4M3Qu9jwm"
      }
    },
    {
      "cell_type": "code",
      "source": [
        "df.select('CharacterName', 'Salary').show()\n",
        "\n",
        "df.filter(df['Salary'] > 3000).show()\n",
        "\n",
        "df.groupBy('OccupationBefore').avg('Salary').show()\n",
        "\n",
        "df.groupBy('OccupationBefore').max('Salary').show()\n",
        "\n",
        "df.groupBy('OccupationBefore').sum('Salary').show()"
      ],
      "metadata": {
        "colab": {
          "base_uri": "https://localhost:8080/"
        },
        "id": "AmyOFRhCtmaZ",
        "outputId": "6a49b6b1-8545-4d8d-e7cd-076d0fdb5eaa"
      },
      "execution_count": 3,
      "outputs": [
        {
          "output_type": "stream",
          "name": "stdout",
          "text": [
            "+-------------+------+\n",
            "|CharacterName|Salary|\n",
            "+-------------+------+\n",
            "|    Kim Dokja|  3500|\n",
            "| Han Sooyoung|  2800|\n",
            "|Yoo Joonghyuk|  4000|\n",
            "| Lee Hyunsung|  3700|\n",
            "|  Jung Heewon|  3900|\n",
            "|    Lee Jihye|     0|\n",
            "| Shin Yoosung|     0|\n",
            "+-------------+------+\n",
            "\n",
            "+-------------+-----------------+------+\n",
            "|CharacterName| OccupationBefore|Salary|\n",
            "+-------------+-----------------+------+\n",
            "|    Kim Dokja|Karyawan Kantoran|  3500|\n",
            "|Yoo Joonghyuk|Gamer Profesional|  4000|\n",
            "| Lee Hyunsung|          Tentara|  3700|\n",
            "|  Jung Heewon|        Pengacara|  3900|\n",
            "+-------------+-----------------+------+\n",
            "\n",
            "+-----------------+-----------+\n",
            "| OccupationBefore|avg(Salary)|\n",
            "+-----------------+-----------+\n",
            "|Gamer Profesional|     4000.0|\n",
            "|Karyawan Kantoran|     3500.0|\n",
            "| Penulis Webnovel|     2800.0|\n",
            "|          Tentara|     3700.0|\n",
            "|        Pengacara|     3900.0|\n",
            "|          Pelajar|        0.0|\n",
            "+-----------------+-----------+\n",
            "\n",
            "+-----------------+-----------+\n",
            "| OccupationBefore|max(Salary)|\n",
            "+-----------------+-----------+\n",
            "|Gamer Profesional|       4000|\n",
            "|Karyawan Kantoran|       3500|\n",
            "| Penulis Webnovel|       2800|\n",
            "|          Tentara|       3700|\n",
            "|        Pengacara|       3900|\n",
            "|          Pelajar|          0|\n",
            "+-----------------+-----------+\n",
            "\n",
            "+-----------------+-----------+\n",
            "| OccupationBefore|sum(Salary)|\n",
            "+-----------------+-----------+\n",
            "|Gamer Profesional|       4000|\n",
            "|Karyawan Kantoran|       3500|\n",
            "| Penulis Webnovel|       2800|\n",
            "|          Tentara|       3700|\n",
            "|        Pengacara|       3900|\n",
            "|          Pelajar|          0|\n",
            "+-----------------+-----------+\n",
            "\n"
          ]
        }
      ]
    },
    {
      "cell_type": "markdown",
      "source": [
        "Tugas 3"
      ],
      "metadata": {
        "id": "ZkWeRhEt9iWm"
      }
    },
    {
      "cell_type": "code",
      "source": [
        "df = df.withColumn('SalaryBonus', df['Salary'] * 0.1)\n",
        "\n",
        "df = df.withColumn('TotalCompensation', df['Salary'] + df['SalaryBonus'])\n",
        "\n",
        "df = df.withColumn('Profile', concat_ws(\" - \", col(\"CharacterName\"), col(\"OccupationBefore\")))\n",
        "\n",
        "df = df.withColumn('StructData', struct(\"CharacterName\", \"Salary\"))\n",
        "\n",
        "df = df.withColumn('ArrayData', array(\"CharacterName\", \"OccupationBefore\"))\n",
        "\n",
        "df.show(truncate=False)"
      ],
      "metadata": {
        "colab": {
          "base_uri": "https://localhost:8080/"
        },
        "id": "crOfXQQuvL7h",
        "outputId": "d3a48358-d668-4024-e32a-33dbc1fa5498"
      },
      "execution_count": 6,
      "outputs": [
        {
          "output_type": "stream",
          "name": "stdout",
          "text": [
            "+-------------+-----------------+------+-----------+-----------------+---------------------------------+---------------------+----------------------------------+\n",
            "|CharacterName|OccupationBefore |Salary|SalaryBonus|TotalCompensation|Profile                          |StructData           |ArrayData                         |\n",
            "+-------------+-----------------+------+-----------+-----------------+---------------------------------+---------------------+----------------------------------+\n",
            "|Kim Dokja    |Karyawan Kantoran|3500  |350.0      |3850.0           |Kim Dokja - Karyawan Kantoran    |{Kim Dokja, 3500}    |[Kim Dokja, Karyawan Kantoran]    |\n",
            "|Han Sooyoung |Penulis Webnovel |2800  |280.0      |3080.0           |Han Sooyoung - Penulis Webnovel  |{Han Sooyoung, 2800} |[Han Sooyoung, Penulis Webnovel]  |\n",
            "|Yoo Joonghyuk|Gamer Profesional|4000  |400.0      |4400.0           |Yoo Joonghyuk - Gamer Profesional|{Yoo Joonghyuk, 4000}|[Yoo Joonghyuk, Gamer Profesional]|\n",
            "|Lee Hyunsung |Tentara          |3700  |370.0      |4070.0           |Lee Hyunsung - Tentara           |{Lee Hyunsung, 3700} |[Lee Hyunsung, Tentara]           |\n",
            "|Jung Heewon  |Pengacara        |3900  |390.0      |4290.0           |Jung Heewon - Pengacara          |{Jung Heewon, 3900}  |[Jung Heewon, Pengacara]          |\n",
            "|Lee Jihye    |Pelajar          |0     |0.0        |0.0              |Lee Jihye - Pelajar              |{Lee Jihye, 0}       |[Lee Jihye, Pelajar]              |\n",
            "|Shin Yoosung |Pelajar          |0     |0.0        |0.0              |Shin Yoosung - Pelajar           |{Shin Yoosung, 0}    |[Shin Yoosung, Pelajar]           |\n",
            "+-------------+-----------------+------+-----------+-----------------+---------------------------------+---------------------+----------------------------------+\n",
            "\n"
          ]
        }
      ]
    },
    {
      "cell_type": "markdown",
      "source": [
        "Tugas 4"
      ],
      "metadata": {
        "id": "nzQp0yr-9hHt"
      }
    },
    {
      "cell_type": "code",
      "source": [
        "from pyspark.sql.window import Window\n",
        "from pyspark.sql import functions as F\n",
        "\n",
        "windowSpec = Window.partitionBy('OccupationBefore').orderBy('Salary')\n",
        "\n",
        "df_rank = df.withColumn('Rank', F.rank().over(windowSpec))\n",
        "\n",
        "df_running = df.withColumn('RunningTotal', F.sum('Salary').over(windowSpec))\n",
        "\n",
        "df_dense = df.withColumn('DenseRank', F.dense_rank().over(windowSpec))\n",
        "\n",
        "print(\"~~~ Ranking gaji per pekerjaan ~~~\")\n",
        "df_rank.show()\n",
        "\n",
        "print(\"~~~ Running total gaji per pekerjaan ~~~\")\n",
        "df_running.show()\n",
        "\n",
        "print(\"~~~ Dense Rank gaji per pekerjaan ~~~\")\n",
        "df_dense.show()"
      ],
      "metadata": {
        "colab": {
          "base_uri": "https://localhost:8080/"
        },
        "id": "MbRAjYmyvOEG",
        "outputId": "9efcd2ff-d225-4def-85a2-9f7c4a526503"
      },
      "execution_count": 7,
      "outputs": [
        {
          "output_type": "stream",
          "name": "stdout",
          "text": [
            "~~~ Ranking gaji per pekerjaan ~~~\n",
            "+-------------+-----------------+------+-----------+-----------------+--------------------+--------------------+--------------------+----+\n",
            "|CharacterName| OccupationBefore|Salary|SalaryBonus|TotalCompensation|             Profile|          StructData|           ArrayData|Rank|\n",
            "+-------------+-----------------+------+-----------+-----------------+--------------------+--------------------+--------------------+----+\n",
            "|Yoo Joonghyuk|Gamer Profesional|  4000|      400.0|           4400.0|Yoo Joonghyuk - G...|{Yoo Joonghyuk, 4...|[Yoo Joonghyuk, G...|   1|\n",
            "|    Kim Dokja|Karyawan Kantoran|  3500|      350.0|           3850.0|Kim Dokja - Karya...|   {Kim Dokja, 3500}|[Kim Dokja, Karya...|   1|\n",
            "|    Lee Jihye|          Pelajar|     0|        0.0|              0.0| Lee Jihye - Pelajar|      {Lee Jihye, 0}|[Lee Jihye, Pelajar]|   1|\n",
            "| Shin Yoosung|          Pelajar|     0|        0.0|              0.0|Shin Yoosung - Pe...|   {Shin Yoosung, 0}|[Shin Yoosung, Pe...|   1|\n",
            "|  Jung Heewon|        Pengacara|  3900|      390.0|           4290.0|Jung Heewon - Pen...| {Jung Heewon, 3900}|[Jung Heewon, Pen...|   1|\n",
            "| Han Sooyoung| Penulis Webnovel|  2800|      280.0|           3080.0|Han Sooyoung - Pe...|{Han Sooyoung, 2800}|[Han Sooyoung, Pe...|   1|\n",
            "| Lee Hyunsung|          Tentara|  3700|      370.0|           4070.0|Lee Hyunsung - Te...|{Lee Hyunsung, 3700}|[Lee Hyunsung, Te...|   1|\n",
            "+-------------+-----------------+------+-----------+-----------------+--------------------+--------------------+--------------------+----+\n",
            "\n",
            "~~~ Running total gaji per pekerjaan ~~~\n",
            "+-------------+-----------------+------+-----------+-----------------+--------------------+--------------------+--------------------+------------+\n",
            "|CharacterName| OccupationBefore|Salary|SalaryBonus|TotalCompensation|             Profile|          StructData|           ArrayData|RunningTotal|\n",
            "+-------------+-----------------+------+-----------+-----------------+--------------------+--------------------+--------------------+------------+\n",
            "|Yoo Joonghyuk|Gamer Profesional|  4000|      400.0|           4400.0|Yoo Joonghyuk - G...|{Yoo Joonghyuk, 4...|[Yoo Joonghyuk, G...|        4000|\n",
            "|    Kim Dokja|Karyawan Kantoran|  3500|      350.0|           3850.0|Kim Dokja - Karya...|   {Kim Dokja, 3500}|[Kim Dokja, Karya...|        3500|\n",
            "|    Lee Jihye|          Pelajar|     0|        0.0|              0.0| Lee Jihye - Pelajar|      {Lee Jihye, 0}|[Lee Jihye, Pelajar]|           0|\n",
            "| Shin Yoosung|          Pelajar|     0|        0.0|              0.0|Shin Yoosung - Pe...|   {Shin Yoosung, 0}|[Shin Yoosung, Pe...|           0|\n",
            "|  Jung Heewon|        Pengacara|  3900|      390.0|           4290.0|Jung Heewon - Pen...| {Jung Heewon, 3900}|[Jung Heewon, Pen...|        3900|\n",
            "| Han Sooyoung| Penulis Webnovel|  2800|      280.0|           3080.0|Han Sooyoung - Pe...|{Han Sooyoung, 2800}|[Han Sooyoung, Pe...|        2800|\n",
            "| Lee Hyunsung|          Tentara|  3700|      370.0|           4070.0|Lee Hyunsung - Te...|{Lee Hyunsung, 3700}|[Lee Hyunsung, Te...|        3700|\n",
            "+-------------+-----------------+------+-----------+-----------------+--------------------+--------------------+--------------------+------------+\n",
            "\n",
            "~~~ Dense Rank gaji per pekerjaan ~~~\n",
            "+-------------+-----------------+------+-----------+-----------------+--------------------+--------------------+--------------------+---------+\n",
            "|CharacterName| OccupationBefore|Salary|SalaryBonus|TotalCompensation|             Profile|          StructData|           ArrayData|DenseRank|\n",
            "+-------------+-----------------+------+-----------+-----------------+--------------------+--------------------+--------------------+---------+\n",
            "|Yoo Joonghyuk|Gamer Profesional|  4000|      400.0|           4400.0|Yoo Joonghyuk - G...|{Yoo Joonghyuk, 4...|[Yoo Joonghyuk, G...|        1|\n",
            "|    Kim Dokja|Karyawan Kantoran|  3500|      350.0|           3850.0|Kim Dokja - Karya...|   {Kim Dokja, 3500}|[Kim Dokja, Karya...|        1|\n",
            "|    Lee Jihye|          Pelajar|     0|        0.0|              0.0| Lee Jihye - Pelajar|      {Lee Jihye, 0}|[Lee Jihye, Pelajar]|        1|\n",
            "| Shin Yoosung|          Pelajar|     0|        0.0|              0.0|Shin Yoosung - Pe...|   {Shin Yoosung, 0}|[Shin Yoosung, Pe...|        1|\n",
            "|  Jung Heewon|        Pengacara|  3900|      390.0|           4290.0|Jung Heewon - Pen...| {Jung Heewon, 3900}|[Jung Heewon, Pen...|        1|\n",
            "| Han Sooyoung| Penulis Webnovel|  2800|      280.0|           3080.0|Han Sooyoung - Pe...|{Han Sooyoung, 2800}|[Han Sooyoung, Pe...|        1|\n",
            "| Lee Hyunsung|          Tentara|  3700|      370.0|           4070.0|Lee Hyunsung - Te...|{Lee Hyunsung, 3700}|[Lee Hyunsung, Te...|        1|\n",
            "+-------------+-----------------+------+-----------+-----------------+--------------------+--------------------+--------------------+---------+\n",
            "\n"
          ]
        }
      ]
    },
    {
      "cell_type": "markdown",
      "source": [
        "Tugas 5"
      ],
      "metadata": {
        "id": "8M-yiwTX8NX1"
      }
    },
    {
      "cell_type": "code",
      "source": [
        "from pyspark.sql import SparkSession\n",
        "\n",
        "spark = SparkSession.builder.appName(\"NetflixHandsOn\").getOrCreate()\n",
        "\n",
        "df_netflix = spark.read.csv(\"netflix_titles.csv\", header=True, inferSchema=True)"
      ],
      "metadata": {
        "id": "Y4bb2A7K9czT"
      },
      "execution_count": 29,
      "outputs": []
    },
    {
      "cell_type": "code",
      "source": [
        "print(\"Schema DataFrame:\")\n",
        "df_netflix.printSchema()\n",
        "\n",
        "print(\"Jumlah total data:\", df_netflix.count())\n",
        "\n",
        "print(\"Preview data:\")\n",
        "df_netflix.show(5)"
      ],
      "metadata": {
        "colab": {
          "base_uri": "https://localhost:8080/"
        },
        "id": "RhAHi_OM8R9_",
        "outputId": "b8e2f675-0a91-4c02-f9c6-d52c22a3c3f9"
      },
      "execution_count": 20,
      "outputs": [
        {
          "output_type": "stream",
          "name": "stdout",
          "text": [
            "Schema DataFrame:\n",
            "root\n",
            " |-- show_id: string (nullable = true)\n",
            " |-- type: string (nullable = true)\n",
            " |-- title: string (nullable = true)\n",
            " |-- director: string (nullable = true)\n",
            " |-- cast: string (nullable = true)\n",
            " |-- country: string (nullable = true)\n",
            " |-- date_added: string (nullable = true)\n",
            " |-- release_year: string (nullable = true)\n",
            " |-- rating: string (nullable = true)\n",
            " |-- duration: string (nullable = true)\n",
            " |-- listed_in: string (nullable = true)\n",
            " |-- description: string (nullable = true)\n",
            "\n",
            "Jumlah total data: 8809\n",
            "Preview data:\n",
            "+-------+-------+--------------------+---------------+--------------------+-------------+------------------+------------+------+---------+--------------------+--------------------+\n",
            "|show_id|   type|               title|       director|                cast|      country|        date_added|release_year|rating| duration|           listed_in|         description|\n",
            "+-------+-------+--------------------+---------------+--------------------+-------------+------------------+------------+------+---------+--------------------+--------------------+\n",
            "|     s1|  Movie|Dick Johnson Is Dead|Kirsten Johnson|                NULL|United States|September 25, 2021|        2020| PG-13|   90 min|       Documentaries|As her father nea...|\n",
            "|     s2|TV Show|       Blood & Water|           NULL|Ama Qamata, Khosi...| South Africa|September 24, 2021|        2021| TV-MA|2 Seasons|International TV ...|After crossing pa...|\n",
            "|     s3|TV Show|           Ganglands|Julien Leclercq|Sami Bouajila, Tr...|         NULL|September 24, 2021|        2021| TV-MA| 1 Season|Crime TV Shows, I...|To protect his fa...|\n",
            "|     s4|TV Show|Jailbirds New Orl...|           NULL|                NULL|         NULL|September 24, 2021|        2021| TV-MA| 1 Season|Docuseries, Reali...|Feuds, flirtation...|\n",
            "|     s5|TV Show|        Kota Factory|           NULL|Mayur More, Jiten...|        India|September 24, 2021|        2021| TV-MA|2 Seasons|International TV ...|In a city of coac...|\n",
            "+-------+-------+--------------------+---------------+--------------------+-------------+------------------+------------+------+---------+--------------------+--------------------+\n",
            "only showing top 5 rows\n",
            "\n"
          ]
        }
      ]
    },
    {
      "cell_type": "code",
      "source": [
        "# Memilih kolom tertentu\n",
        "df_netflix.select(\"title\", \"type\", \"release_year\").show(5, truncate=False)\n",
        "\n",
        "# Filter film setelah tahun 2015\n",
        "df_netflix.filter(df_netflix.release_year > 2015) \\\n",
        "          .select(\"title\", \"release_year\") \\\n",
        "          .show(5, truncate=False)\n",
        "\n",
        "# GroupBy + Aggregasi\n",
        "df_netflix.groupBy(\"country\").count().orderBy(\"count\", ascending=False).show(10, truncate=False)\n",
        "df_netflix.groupBy(\"release_year\", \"type\").count().orderBy(\"release_year\", ascending=False).show(10, truncate=False)"
      ],
      "metadata": {
        "colab": {
          "base_uri": "https://localhost:8080/"
        },
        "id": "ufOwiCLi8sOs",
        "outputId": "7a04fc38-08da-4a00-90a4-169542c88720"
      },
      "execution_count": 21,
      "outputs": [
        {
          "output_type": "stream",
          "name": "stdout",
          "text": [
            "+---------------------+-------+------------+\n",
            "|title                |type   |release_year|\n",
            "+---------------------+-------+------------+\n",
            "|Dick Johnson Is Dead |Movie  |2020        |\n",
            "|Blood & Water        |TV Show|2021        |\n",
            "|Ganglands            |TV Show|2021        |\n",
            "|Jailbirds New Orleans|TV Show|2021        |\n",
            "|Kota Factory         |TV Show|2021        |\n",
            "+---------------------+-------+------------+\n",
            "only showing top 5 rows\n",
            "\n",
            "+---------------------+------------+\n",
            "|title                |release_year|\n",
            "+---------------------+------------+\n",
            "|Dick Johnson Is Dead |2020        |\n",
            "|Blood & Water        |2021        |\n",
            "|Ganglands            |2021        |\n",
            "|Jailbirds New Orleans|2021        |\n",
            "|Kota Factory         |2021        |\n",
            "+---------------------+------------+\n",
            "only showing top 5 rows\n",
            "\n",
            "+--------------+-----+\n",
            "|country       |count|\n",
            "+--------------+-----+\n",
            "|United States |2805 |\n",
            "|India         |972  |\n",
            "|NULL          |832  |\n",
            "|United Kingdom|419  |\n",
            "|Japan         |245  |\n",
            "|South Korea   |199  |\n",
            "|Canada        |181  |\n",
            "|Spain         |145  |\n",
            "|France        |123  |\n",
            "|Mexico        |110  |\n",
            "+--------------+-----+\n",
            "only showing top 10 rows\n",
            "\n",
            "+-----------------+-------------+-----+\n",
            "|release_year     |type         |count|\n",
            "+-----------------+-------------+-----+\n",
            "|United States    |Movie        |1    |\n",
            "|June 12, 2021    |Movie        |1    |\n",
            "|January 15, 2021 |Movie        |1    |\n",
            "|January 13, 2021 |Movie        |1    |\n",
            "|December 15, 2020|TV Show      |1    |\n",
            "|August 13, 2020  |Movie        |1    |\n",
            "|40 min           |William Wyler|1    |\n",
            "|2021             |Movie        |275  |\n",
            "|2021             |TV Show      |314  |\n",
            "|2020             |TV Show      |436  |\n",
            "+-----------------+-------------+-----+\n",
            "only showing top 10 rows\n",
            "\n"
          ]
        }
      ]
    },
    {
      "cell_type": "code",
      "source": [
        "from pyspark.sql.functions import length, split, explode\n",
        "\n",
        "# Tambahkan kolom panjang judul\n",
        "df_netflix = df_netflix.withColumn(\"title_length\", length(\"title\"))\n",
        "df_netflix.select(\"title\", \"title_length\").show(5, truncate=False)\n",
        "\n",
        "# Pecah genre menjadi array lalu explode → satu genre per baris\n",
        "df_genre = df_netflix.withColumn(\"genre\", explode(split(\"listed_in\", \", \")))\n",
        "df_genre.select(\"title\", \"genre\").show(10, truncate=False)"
      ],
      "metadata": {
        "colab": {
          "base_uri": "https://localhost:8080/"
        },
        "id": "uDRI0JvH8u5p",
        "outputId": "2a592258-b726-4218-9337-b9d52e77128c"
      },
      "execution_count": 22,
      "outputs": [
        {
          "output_type": "stream",
          "name": "stdout",
          "text": [
            "+---------------------+------------+\n",
            "|title                |title_length|\n",
            "+---------------------+------------+\n",
            "|Dick Johnson Is Dead |20          |\n",
            "|Blood & Water        |13          |\n",
            "|Ganglands            |9           |\n",
            "|Jailbirds New Orleans|21          |\n",
            "|Kota Factory         |12          |\n",
            "+---------------------+------------+\n",
            "only showing top 5 rows\n",
            "\n",
            "+---------------------+----------------------+\n",
            "|title                |genre                 |\n",
            "+---------------------+----------------------+\n",
            "|Dick Johnson Is Dead |Documentaries         |\n",
            "|Blood & Water        |International TV Shows|\n",
            "|Blood & Water        |TV Dramas             |\n",
            "|Blood & Water        |TV Mysteries          |\n",
            "|Ganglands            |Crime TV Shows        |\n",
            "|Ganglands            |International TV Shows|\n",
            "|Ganglands            |TV Action & Adventure |\n",
            "|Jailbirds New Orleans|Docuseries            |\n",
            "|Jailbirds New Orleans|Reality TV            |\n",
            "|Kota Factory         |International TV Shows|\n",
            "+---------------------+----------------------+\n",
            "only showing top 10 rows\n",
            "\n"
          ]
        }
      ]
    },
    {
      "cell_type": "code",
      "source": [
        "from pyspark.sql import Window\n",
        "from pyspark.sql.functions import col, rank, count\n",
        "\n",
        "# Window Function untuk ranking director\n",
        "window_dir = Window.partitionBy().orderBy(col(\"total_films\").desc())\n",
        "df_director = df_netflix.groupBy(\"director\").count().withColumnRenamed(\"count\",\"total_films\")\n",
        "df_director = df_director.withColumn(\"rank\", rank().over(window_dir))\n",
        "df_director.filter(col(\"rank\") <= 5).show()"
      ],
      "metadata": {
        "colab": {
          "base_uri": "https://localhost:8080/"
        },
        "id": "ZVO3wgPD8yAU",
        "outputId": "f5e24ff4-024d-4343-a054-935630269fdf"
      },
      "execution_count": 13,
      "outputs": [
        {
          "output_type": "stream",
          "name": "stdout",
          "text": [
            "+--------------------+-----------+----+\n",
            "|            director|total_films|rank|\n",
            "+--------------------+-----------+----+\n",
            "|                NULL|       2636|   1|\n",
            "|       Rajiv Chilaka|         19|   2|\n",
            "|Raúl Campos, Jan ...|         18|   3|\n",
            "|        Marcus Raboy|         16|   4|\n",
            "|         Suhas Kadav|         16|   4|\n",
            "+--------------------+-----------+----+\n",
            "\n"
          ]
        }
      ]
    },
    {
      "cell_type": "code",
      "source": [
        "# Running count jumlah film per tahun\n",
        "window_year = Window.orderBy(\"release_year\").rowsBetween(Window.unboundedPreceding, 0)\n",
        "df_year_running = df_netflix.groupBy(\"release_year\").count().orderBy(\"release_year\") \\\n",
        "    .withColumn(\"running_total\", count(\"count\").over(window_year))\n",
        "df_year_running.show(10)"
      ],
      "metadata": {
        "colab": {
          "base_uri": "https://localhost:8080/"
        },
        "id": "0Fw_Y-Dc8zzz",
        "outputId": "2033f0c9-0fa0-451a-9c9b-730dc8f6128b"
      },
      "execution_count": 23,
      "outputs": [
        {
          "output_type": "stream",
          "name": "stdout",
          "text": [
            "+-----------------+-----+-------------+\n",
            "|     release_year|count|running_total|\n",
            "+-----------------+-----+-------------+\n",
            "|             NULL|    2|            1|\n",
            "|   Charles Rocket|    1|            2|\n",
            "|          Dr. Dre|    1|            3|\n",
            "|   Francis Weddey|    1|            4|\n",
            "|     Imanol Arias|    1|            5|\n",
            "|      Jade Eshete|    1|            6|\n",
            "| Kristen Johnston|    1|            7|\n",
            "| Marquell Manning|    1|            8|\n",
            "|       Nick Kroll|    1|            9|\n",
            "|    Nse Ikpe-Etim|    1|           10|\n",
            "+-----------------+-----+-------------+\n",
            "only showing top 10 rows\n",
            "\n"
          ]
        }
      ]
    },
    {
      "cell_type": "code",
      "source": [
        "from pyspark.sql.functions import udf\n",
        "from pyspark.sql.types import StringType\n",
        "\n",
        "# Fungsi custom\n",
        "def categorize_length(x):\n",
        "    if x is None:\n",
        "        return \"unknown\"\n",
        "    elif x < 10:\n",
        "        return \"pendek\"\n",
        "    elif x <= 20:\n",
        "        return \"sedang\"\n",
        "    else:\n",
        "        return \"panjang\"\n",
        "\n",
        "udf_categorize = udf(categorize_length, StringType())\n",
        "df_netflix = df_netflix.withColumn(\"length_category\", udf_categorize(\"title_length\"))\n",
        "df_netflix.select(\"title\", \"title_length\", \"length_category\").show(5, truncate=False)"
      ],
      "metadata": {
        "colab": {
          "base_uri": "https://localhost:8080/"
        },
        "id": "LKWXuFuP81Mx",
        "outputId": "2ecf4fb5-a66e-476e-f97d-120d11328bfc"
      },
      "execution_count": 24,
      "outputs": [
        {
          "output_type": "stream",
          "name": "stdout",
          "text": [
            "+---------------------+------------+---------------+\n",
            "|title                |title_length|length_category|\n",
            "+---------------------+------------+---------------+\n",
            "|Dick Johnson Is Dead |20          |sedang         |\n",
            "|Blood & Water        |13          |sedang         |\n",
            "|Ganglands            |9           |pendek         |\n",
            "|Jailbirds New Orleans|21          |panjang        |\n",
            "|Kota Factory         |12          |sedang         |\n",
            "+---------------------+------------+---------------+\n",
            "only showing top 5 rows\n",
            "\n"
          ]
        }
      ]
    },
    {
      "cell_type": "code",
      "source": [
        "from pyspark.sql.functions import to_date, year\n",
        "\n",
        "# Konversi date_added ke format tanggal\n",
        "df_netflix = df_netflix.withColumn(\"date_added_clean\", to_date(\"date_added\", \"MMMM d, yyyy\"))\n",
        "df_netflix = df_netflix.withColumn(\"year_added\", year(\"date_added_clean\"))\n",
        "\n",
        "# Hitung jumlah film per tahun ditambahkan ke Netflix\n",
        "df_netflix.groupBy(\"year_added\").count().orderBy(\"year_added\", ascending=False).show(10)"
      ],
      "metadata": {
        "colab": {
          "base_uri": "https://localhost:8080/"
        },
        "id": "-du6c0ET829K",
        "outputId": "84b23711-d95e-4498-fec6-26291fb40e9e"
      },
      "execution_count": 25,
      "outputs": [
        {
          "output_type": "stream",
          "name": "stdout",
          "text": [
            "+----------+-----+\n",
            "|year_added|count|\n",
            "+----------+-----+\n",
            "|      2021| 1491|\n",
            "|      2020| 1872|\n",
            "|      2019| 1997|\n",
            "|      2018| 1623|\n",
            "|      2017| 1162|\n",
            "|      2016|  418|\n",
            "|      2015|   72|\n",
            "|      2014|   23|\n",
            "|      2013|   10|\n",
            "|      2012|    3|\n",
            "+----------+-----+\n",
            "only showing top 10 rows\n",
            "\n"
          ]
        }
      ]
    },
    {
      "cell_type": "code",
      "source": [
        "# Genre terbanyak\n",
        "df_genre.groupBy(\"genre\").count().orderBy(\"count\", ascending=False).show(10, truncate=False)\n",
        "\n",
        "# Negara penyumbang film terbanyak\n",
        "df_netflix.groupBy(\"country\").count().orderBy(\"count\", ascending=False).show(10, truncate=False)\n",
        "\n",
        "# Tren tahun rilis\n",
        "df_netflix.groupBy(\"release_year\").count().orderBy(\"release_year\", ascending=False).show(10)"
      ],
      "metadata": {
        "colab": {
          "base_uri": "https://localhost:8080/"
        },
        "id": "Kqms8sGA841P",
        "outputId": "fcdf21c6-c58c-4b46-e944-19d627cb5100"
      },
      "execution_count": 26,
      "outputs": [
        {
          "output_type": "stream",
          "name": "stdout",
          "text": [
            "+------------------------+-----+\n",
            "|genre                   |count|\n",
            "+------------------------+-----+\n",
            "|International Movies    |2748 |\n",
            "|Dramas                  |2419 |\n",
            "|Comedies                |1670 |\n",
            "|International TV Shows  |1350 |\n",
            "|Documentaries           |866  |\n",
            "|Action & Adventure      |857  |\n",
            "|TV Dramas               |762  |\n",
            "|Independent Movies      |751  |\n",
            "|Children & Family Movies|641  |\n",
            "|Romantic Movies         |616  |\n",
            "+------------------------+-----+\n",
            "only showing top 10 rows\n",
            "\n",
            "+--------------+-----+\n",
            "|country       |count|\n",
            "+--------------+-----+\n",
            "|United States |2805 |\n",
            "|India         |972  |\n",
            "|NULL          |832  |\n",
            "|United Kingdom|419  |\n",
            "|Japan         |245  |\n",
            "|South Korea   |199  |\n",
            "|Canada        |181  |\n",
            "|Spain         |145  |\n",
            "|France        |123  |\n",
            "|Mexico        |110  |\n",
            "+--------------+-----+\n",
            "only showing top 10 rows\n",
            "\n",
            "+-----------------+-----+\n",
            "|     release_year|count|\n",
            "+-----------------+-----+\n",
            "|    United States|    1|\n",
            "|    June 12, 2021|    1|\n",
            "| January 15, 2021|    1|\n",
            "| January 13, 2021|    1|\n",
            "|December 15, 2020|    1|\n",
            "|  August 13, 2020|    1|\n",
            "|           40 min|    1|\n",
            "|             2021|  589|\n",
            "|             2020|  952|\n",
            "|             2019| 1026|\n",
            "+-----------------+-----+\n",
            "only showing top 10 rows\n",
            "\n"
          ]
        }
      ]
    }
  ]
}